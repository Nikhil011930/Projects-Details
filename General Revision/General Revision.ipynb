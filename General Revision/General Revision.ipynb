{
 "cells": [
  {
   "cell_type": "markdown",
   "metadata": {},
   "source": [
    "# STRING"
   ]
  },
  {
   "cell_type": "code",
   "execution_count": 1,
   "metadata": {},
   "outputs": [
    {
     "name": "stdout",
     "output_type": "stream",
     "text": [
      "Lorem ipsum dolor sit amet,\n",
      "consectetur adipiscing elit,\n",
      "sed do eiusmod tempor incididunt\n",
      "ut labore et dolore magna aliqua.\n"
     ]
    }
   ],
   "source": [
    "# Multiple String - The multiple string can be inclosed in \"\"\" \"\"\", or in ''' '''\n",
    "\n",
    "a = \"\"\"Lorem ipsum dolor sit amet,\n",
    "consectetur adipiscing elit,\n",
    "sed do eiusmod tempor incididunt\n",
    "ut labore et dolore magna aliqua.\"\"\"\n",
    "print(a)"
   ]
  },
  {
   "cell_type": "code",
   "execution_count": 2,
   "metadata": {},
   "outputs": [
    {
     "name": "stdout",
     "output_type": "stream",
     "text": [
      "Hello MICRORBITAL LABS \n",
      " e\n"
     ]
    }
   ],
   "source": [
    "a = \"Hello MICRORBITAL LABS\"\n",
    "print(a,'\\n',a[1])\n",
    "\n",
    "# String are arrays so we can acces every word in the string"
   ]
  },
  {
   "cell_type": "code",
   "execution_count": 3,
   "metadata": {},
   "outputs": [
    {
     "name": "stdout",
     "output_type": "stream",
     "text": [
      "M\n",
      "I\n",
      "C\n",
      "R\n",
      "O\n",
      "R\n",
      "B\n",
      "I\n",
      "T\n",
      "A\n",
      "L\n"
     ]
    }
   ],
   "source": [
    "# Looping throug the String\n",
    "\n",
    "for x in \"MICRORBITAL\":\n",
    "    print(x)"
   ]
  },
  {
   "cell_type": "code",
   "execution_count": 4,
   "metadata": {},
   "outputs": [
    {
     "name": "stdout",
     "output_type": "stream",
     "text": [
      "11\n"
     ]
    }
   ],
   "source": [
    "# Also we can check the length of the strign    \n",
    "\n",
    "a = \"MICRORBITAL\"\n",
    "print(len(a))"
   ]
  },
  {
   "cell_type": "code",
   "execution_count": 5,
   "metadata": {},
   "outputs": [
    {
     "name": "stdout",
     "output_type": "stream",
     "text": [
      "True\n"
     ]
    }
   ],
   "source": [
    "# Checking String\n",
    "text = \"The code must be unique, and don't copy the code.\"\n",
    "print(\"code\" in text)"
   ]
  },
  {
   "cell_type": "code",
   "execution_count": 6,
   "metadata": {},
   "outputs": [
    {
     "name": "stdout",
     "output_type": "stream",
     "text": [
      "Yes, 'code' is present in the text.\n"
     ]
    }
   ],
   "source": [
    "if \"code\" in text:\n",
    "    print(\"Yes, 'code' is present in the text.\")"
   ]
  },
  {
   "cell_type": "code",
   "execution_count": 7,
   "metadata": {},
   "outputs": [
    {
     "name": "stdout",
     "output_type": "stream",
     "text": [
      "False\n"
     ]
    }
   ],
   "source": [
    "print('paste' in text)"
   ]
  },
  {
   "cell_type": "code",
   "execution_count": 8,
   "metadata": {},
   "outputs": [
    {
     "name": "stdout",
     "output_type": "stream",
     "text": [
      "No, it is not present in the text.\n"
     ]
    }
   ],
   "source": [
    "if 'paste' in text:\n",
    "    print(\"Yes, it is present in the text.\")\n",
    "else:\n",
    "    print(\"No, it is not present in the text.\")"
   ]
  },
  {
   "cell_type": "markdown",
   "metadata": {},
   "source": [
    "## Slicing String"
   ]
  },
  {
   "cell_type": "code",
   "execution_count": 9,
   "metadata": {},
   "outputs": [
    {
     "data": {
      "text/plain": [
       "\"The code must be unique, and don't copy the code.\""
      ]
     },
     "execution_count": 9,
     "metadata": {},
     "output_type": "execute_result"
    }
   ],
   "source": [
    "text"
   ]
  },
  {
   "cell_type": "code",
   "execution_count": 10,
   "metadata": {},
   "outputs": [
    {
     "name": "stdout",
     "output_type": "stream",
     "text": [
      " code must \n",
      "The code must be uni\n",
      "and don't copy the code.\n",
      " the code\n"
     ]
    }
   ],
   "source": [
    "print(text[3:14])\n",
    "\n",
    "# Sling from the start\n",
    "print(text[: 20])\n",
    "\n",
    "# Sling to the end\n",
    "print(text[25:])\n",
    "\n",
    "# Negative Indexing\n",
    "print(text[-10:-1])"
   ]
  },
  {
   "cell_type": "code",
   "execution_count": 11,
   "metadata": {},
   "outputs": [
    {
     "name": "stdout",
     "output_type": "stream",
     "text": [
      " THANK YOU FOR SHOWING INTEREST IN MICRORBITAL LABS. \n"
     ]
    }
   ],
   "source": [
    "# Upper case\n",
    "a = ' Thank you for showing interest in MicrOrbital Labs. '\n",
    "print(a.upper())\n"
   ]
  },
  {
   "cell_type": "code",
   "execution_count": 12,
   "metadata": {},
   "outputs": [
    {
     "name": "stdout",
     "output_type": "stream",
     "text": [
      "Thank you for showing interest in microrbital labs.\n"
     ]
    }
   ],
   "source": [
    "# Capitalization\n",
    "b = \"thank you for showing interest in microrbital labs.\"\n",
    "print(b.capitalize())"
   ]
  },
  {
   "cell_type": "code",
   "execution_count": 13,
   "metadata": {},
   "outputs": [
    {
     "name": "stdout",
     "output_type": "stream",
     "text": [
      " thank you for showing interest in microrbital labs. \n"
     ]
    }
   ],
   "source": [
    "# Lower case\n",
    "print(a.lower())"
   ]
  },
  {
   "cell_type": "code",
   "execution_count": 14,
   "metadata": {},
   "outputs": [
    {
     "name": "stdout",
     "output_type": "stream",
     "text": [
      "Thank you for showing interest in MicrOrbital Labs.\n"
     ]
    }
   ],
   "source": [
    "# Removing the white space\n",
    "print(a.strip())"
   ]
  },
  {
   "cell_type": "code",
   "execution_count": 15,
   "metadata": {},
   "outputs": [
    {
     "name": "stdout",
     "output_type": "stream",
     "text": [
      " Thank you for showKng Knterest Kn MKcrOrbKtal Labs. \n"
     ]
    }
   ],
   "source": [
    "# Replacing the String\n",
    "print(a.replace(\"i\", \"K\"))"
   ]
  },
  {
   "cell_type": "code",
   "execution_count": 16,
   "metadata": {},
   "outputs": [
    {
     "name": "stdout",
     "output_type": "stream",
     "text": [
      "['For this internship', ' maintain a separate Github repository']\n"
     ]
    }
   ],
   "source": [
    "# Spliting the string\n",
    "a = 'For this internship, maintain a separate Github repository'\n",
    "print(a.split(','))"
   ]
  },
  {
   "cell_type": "code",
   "execution_count": 17,
   "metadata": {},
   "outputs": [
    {
     "name": "stdout",
     "output_type": "stream",
     "text": [
      "Thank You For Showing Interest In Microrbital Labs.\n"
     ]
    }
   ],
   "source": [
    "# title\n",
    "print(b.title())"
   ]
  },
  {
   "cell_type": "code",
   "execution_count": 18,
   "metadata": {},
   "outputs": [
    {
     "name": "stdout",
     "output_type": "stream",
     "text": [
      "apple,banana,cherry\n"
     ]
    }
   ],
   "source": [
    "# join\n",
    "fruits = [\"apple\", \"banana\", \"cherry\"]\n",
    "delimiter = \",\"\n",
    "print(delimiter.join(fruits))"
   ]
  },
  {
   "cell_type": "code",
   "execution_count": 19,
   "metadata": {},
   "outputs": [
    {
     "name": "stdout",
     "output_type": "stream",
     "text": [
      "True\n"
     ]
    }
   ],
   "source": [
    "# Startwith\n",
    "a = 'For this internship, maintain a separate Github repository'\n",
    "print(a.startswith(\"For\"))"
   ]
  },
  {
   "cell_type": "code",
   "execution_count": 20,
   "metadata": {},
   "outputs": [
    {
     "name": "stdout",
     "output_type": "stream",
     "text": [
      "True\n"
     ]
    }
   ],
   "source": [
    "# Endswith\n",
    "print(a.endswith(\"repository\"))"
   ]
  },
  {
   "cell_type": "code",
   "execution_count": 21,
   "metadata": {},
   "outputs": [
    {
     "name": "stdout",
     "output_type": "stream",
     "text": [
      "Monty Python\n",
      "Monty Python\n"
     ]
    }
   ],
   "source": [
    "#string concatenation\n",
    "\n",
    "first_name = \"Monty\"\n",
    "last_name = 'Python'\n",
    "\n",
    "# step - 1\n",
    "name = first_name + \" \" + last_name\n",
    "print(name)\n",
    "\n",
    "# step - 2\n",
    "print(f\"{first_name} {last_name}\")"
   ]
  },
  {
   "cell_type": "code",
   "execution_count": 22,
   "metadata": {},
   "outputs": [
    {
     "name": "stdout",
     "output_type": "stream",
     "text": [
      "I am 30 years old\n",
      "I am 30 years old\n"
     ]
    }
   ],
   "source": [
    "# type casting using str() function \n",
    "age = 30\n",
    "print(\"I am \"+ str(age) + \" years old\")\n",
    "\n",
    "# else\n",
    "\n",
    "print(f\"I am {age} years old\")"
   ]
  },
  {
   "cell_type": "markdown",
   "metadata": {},
   "source": [
    "# LIST"
   ]
  },
  {
   "cell_type": "markdown",
   "metadata": {},
   "source": [
    "List items are ordered, changeable, and allow duplicate values."
   ]
  },
  {
   "cell_type": "code",
   "execution_count": 23,
   "metadata": {},
   "outputs": [
    {
     "name": "stdout",
     "output_type": "stream",
     "text": [
      "<class 'list'>\n",
      "['Swing', 'Shift', 'Twist', 'Release']\n"
     ]
    }
   ],
   "source": [
    "Athletics = ['Swing', 'Shift', 'Twist', 'Release']\n",
    "print(type(Athletics))\n",
    "print(Athletics)"
   ]
  },
  {
   "cell_type": "code",
   "execution_count": 24,
   "metadata": {},
   "outputs": [],
   "source": [
    "# String, int, and boolean data types in list\n",
    "Athletics = ['Swing', 'Shift', 'Twist', 'Release']\n",
    "year = [2023, 2024, 2025, 2026]\n",
    "bol = [True, True, False, False, True]"
   ]
  },
  {
   "cell_type": "code",
   "execution_count": 25,
   "metadata": {},
   "outputs": [
    {
     "name": "stdout",
     "output_type": "stream",
     "text": [
      "['Swing', 'Shift', 2023, 2024, True, False]\n",
      "<class 'list'>\n"
     ]
    }
   ],
   "source": [
    "comb = ['Swing', \"Shift\", 2023, 2024, True, False]\n",
    "print(comb)\n",
    "print(type(comb))"
   ]
  },
  {
   "cell_type": "code",
   "execution_count": 26,
   "metadata": {},
   "outputs": [
    {
     "name": "stdout",
     "output_type": "stream",
     "text": [
      "<class 'list'>\n"
     ]
    }
   ],
   "source": [
    "# list can be written as\n",
    "new = list(('Swing', \"Shift\", 2023, 2024, True, False))\n",
    "print(type(new))"
   ]
  },
  {
   "cell_type": "code",
   "execution_count": 27,
   "metadata": {},
   "outputs": [
    {
     "name": "stdout",
     "output_type": "stream",
     "text": [
      "Shift\n"
     ]
    }
   ],
   "source": [
    "# Accessing Items\n",
    "new = ['Swing', \"Shift\", 2023, 2024, True, False]\n",
    "print(new[1])"
   ]
  },
  {
   "cell_type": "code",
   "execution_count": 28,
   "metadata": {},
   "outputs": [
    {
     "name": "stdout",
     "output_type": "stream",
     "text": [
      "[2023, 2024, True, False]\n"
     ]
    }
   ],
   "source": [
    "print(new[2:])"
   ]
  },
  {
   "cell_type": "code",
   "execution_count": 29,
   "metadata": {},
   "outputs": [
    {
     "name": "stdout",
     "output_type": "stream",
     "text": [
      "['Swing', 'Shift', 2023]\n"
     ]
    }
   ],
   "source": [
    "# Negative Indexing\n",
    "print(new[:-3])"
   ]
  },
  {
   "cell_type": "code",
   "execution_count": 30,
   "metadata": {},
   "outputs": [
    {
     "name": "stdout",
     "output_type": "stream",
     "text": [
      "Yes, it is present\n"
     ]
    }
   ],
   "source": [
    "# Check if Item Exists\n",
    "ground = ['Side Line', \"Goal\", 'Goal Line', 'Inside Left', 'Umpire']\n",
    "if \"Goal\" in ground:\n",
    "    print(\"Yes, it is present\")\n",
    "else:\n",
    "    print(\"No, it is not present.\")"
   ]
  },
  {
   "cell_type": "code",
   "execution_count": 31,
   "metadata": {},
   "outputs": [
    {
     "name": "stdout",
     "output_type": "stream",
     "text": [
      "['Head', 'Frog', 'Scroll', 'Stick', 'Horsehair']\n"
     ]
    }
   ],
   "source": [
    "# Changing the Item Values\n",
    "string = ['Head', \"Frog\", 'Screw', 'Stick', 'Horsehair']\n",
    "string[2] = 'Scroll'\n",
    "print(string)"
   ]
  },
  {
   "cell_type": "code",
   "execution_count": 32,
   "metadata": {},
   "outputs": [
    {
     "name": "stdout",
     "output_type": "stream",
     "text": [
      "['Head', 'Chin Rest', 'Bridge', 'Belly', 'Stick', 'Horsehair']\n"
     ]
    }
   ],
   "source": [
    "# Change a Range of Item Values\n",
    "string = ['Head', \"Frog\", 'Screw', 'Stick', 'Horsehair']\n",
    "string[1:3] = ['Chin Rest', 'Bridge', 'Belly']\n",
    "print(string)"
   ]
  },
  {
   "cell_type": "code",
   "execution_count": 33,
   "metadata": {},
   "outputs": [
    {
     "name": "stdout",
     "output_type": "stream",
     "text": [
      "['Head', 'Chin Rest', 'Bridge', 'Tailpiece', 'Belly', 'Stick', 'Horsehair']\n"
     ]
    }
   ],
   "source": [
    "# Inserting Item\n",
    "string.insert(3,'Tailpiece')\n",
    "print(string)"
   ]
  },
  {
   "cell_type": "code",
   "execution_count": 34,
   "metadata": {},
   "outputs": [
    {
     "name": "stdout",
     "output_type": "stream",
     "text": [
      "['Head', 'Chin Rest', 'Bridge', 'Tailpiece', 'Belly', 'Stick', 'Horsehair', 'Nut']\n"
     ]
    }
   ],
   "source": [
    "# Append\n",
    "string = ['Head', 'Chin Rest', 'Bridge', 'Tailpiece', 'Belly', 'Stick', 'Horsehair']\n",
    "string.append('Nut')\n",
    "print(string)"
   ]
  },
  {
   "cell_type": "code",
   "execution_count": 35,
   "metadata": {},
   "outputs": [
    {
     "name": "stdout",
     "output_type": "stream",
     "text": [
      "['Head', 'Chin Rest', 'Bridge', 'Tailpiece', 'Belly', 'Stick', 'Horsehair', 'Nut', 'Chin rest']\n"
     ]
    }
   ],
   "source": [
    "# Extend\n",
    "string = ['Head', 'Chin Rest', 'Bridge', 'Tailpiece', 'Belly', 'Stick', 'Horsehair', 'Nut']\n",
    "stri = ['Chin rest']\n",
    "string.extend(stri)\n",
    "print(string)"
   ]
  },
  {
   "cell_type": "code",
   "execution_count": 36,
   "metadata": {},
   "outputs": [
    {
     "name": "stdout",
     "output_type": "stream",
     "text": [
      "['Head', 'Chin Rest', 'Bridge', 'Tailpiece', 'Belly', 'Stick', 'Horsehair', 'Chin rest']\n"
     ]
    }
   ],
   "source": [
    "# Remove Specified Item\n",
    "string = string\n",
    "string.remove(\"Nut\")\n",
    "print(string)"
   ]
  },
  {
   "cell_type": "code",
   "execution_count": 37,
   "metadata": {},
   "outputs": [
    {
     "name": "stdout",
     "output_type": "stream",
     "text": [
      "['Head', 'Chin Rest', 'Bridge', 'Tailpiece', 'Belly', 'Stick', 'Chin rest']\n"
     ]
    }
   ],
   "source": [
    "# Remove Specified Index\n",
    "string = string\n",
    "string.pop(-2)\n",
    "print(string)"
   ]
  },
  {
   "cell_type": "code",
   "execution_count": 38,
   "metadata": {},
   "outputs": [
    {
     "name": "stdout",
     "output_type": "stream",
     "text": [
      "['Head', 'Chin Rest', 'Bridge', 'Tailpiece', 'Belly', 'Stick']\n"
     ]
    }
   ],
   "source": [
    "string.pop() # it wil remove the last element from the list\n",
    "print(string)"
   ]
  },
  {
   "cell_type": "code",
   "execution_count": 39,
   "metadata": {},
   "outputs": [
    {
     "data": {
      "text/plain": [
       "['Head', 'Bridge', 'Tailpiece', 'Belly', 'Stick']"
      ]
     },
     "execution_count": 39,
     "metadata": {},
     "output_type": "execute_result"
    }
   ],
   "source": [
    "# del keyword will also remove the element from the list\n",
    "del string[1] #adding the position of the element\n",
    "string"
   ]
  },
  {
   "cell_type": "code",
   "execution_count": 40,
   "metadata": {},
   "outputs": [
    {
     "data": {
      "text/plain": [
       "[]"
      ]
     },
     "execution_count": 40,
     "metadata": {},
     "output_type": "execute_result"
    }
   ],
   "source": [
    "# Clearing the list \n",
    "string.clear()\n",
    "string"
   ]
  },
  {
   "cell_type": "code",
   "execution_count": 41,
   "metadata": {},
   "outputs": [
    {
     "name": "stdout",
     "output_type": "stream",
     "text": [
      "Handle\n",
      "Spoke\n",
      "Rim Plate\n",
      "Nave\n"
     ]
    }
   ],
   "source": [
    "# Loop throung the list\n",
    "thelist = ['Handle', 'Spoke', 'Rim Plate', 'Nave']\n",
    "for x in thelist:\n",
    "    print(x)"
   ]
  },
  {
   "cell_type": "code",
   "execution_count": 42,
   "metadata": {},
   "outputs": [
    {
     "name": "stdout",
     "output_type": "stream",
     "text": [
      "Handle\n",
      "Spoke\n",
      "Rim Plate\n",
      "Nave\n"
     ]
    }
   ],
   "source": [
    "# Looping throung the index numbers\n",
    "thelist = ['Handle', 'Spoke', 'Rim Plate', 'Nave']\n",
    "for i in range(len(thelist)):\n",
    "    print(thelist[i])"
   ]
  },
  {
   "cell_type": "code",
   "execution_count": 43,
   "metadata": {},
   "outputs": [
    {
     "name": "stdout",
     "output_type": "stream",
     "text": [
      "Handle\n",
      "Spoke\n",
      "Rim Plate\n",
      "Nave\n"
     ]
    }
   ],
   "source": [
    "# Using while loop\n",
    "thelist = ['Handle', 'Spoke', 'Rim Plate', 'Nave']\n",
    "i = 0\n",
    "\n",
    "while  i < len(thelist):\n",
    "    print(thelist[i]) \n",
    "    i += 1"
   ]
  },
  {
   "cell_type": "code",
   "execution_count": 44,
   "metadata": {},
   "outputs": [
    {
     "name": "stdout",
     "output_type": "stream",
     "text": [
      "Handle\n",
      "Spoke\n",
      "Rim Plate\n",
      "Nave\n"
     ]
    },
    {
     "data": {
      "text/plain": [
       "[None, None, None, None]"
      ]
     },
     "execution_count": 44,
     "metadata": {},
     "output_type": "execute_result"
    }
   ],
   "source": [
    "# Looping Using List Comprehension\n",
    "thelist = ['Handle', 'Spoke', 'Rim Plate', 'Nave']\n",
    "[print(x) for x in thelist]"
   ]
  },
  {
   "cell_type": "code",
   "execution_count": 45,
   "metadata": {},
   "outputs": [
    {
     "name": "stdout",
     "output_type": "stream",
     "text": [
      "['blade', 'Hub', 'black']\n"
     ]
    }
   ],
   "source": [
    "# List Comprehension\n",
    "portion = ['blade', 'Hub', 'Keyway', 'Propeller', 'black']\n",
    "\n",
    "newlist = [x for x in portion if 'b' in x]\n",
    "print(newlist)"
   ]
  },
  {
   "cell_type": "code",
   "execution_count": 46,
   "metadata": {},
   "outputs": [
    {
     "name": "stdout",
     "output_type": "stream",
     "text": [
      "['Black', 'Blade', 'Hub', 'Keyway', 'Propeller']\n"
     ]
    }
   ],
   "source": [
    "# Sort\n",
    "portion = ['Blade', 'Hub', 'Keyway', 'Propeller', 'Black']\n",
    "portion.sort()\n",
    "print(portion)"
   ]
  },
  {
   "cell_type": "code",
   "execution_count": 47,
   "metadata": {},
   "outputs": [
    {
     "name": "stdout",
     "output_type": "stream",
     "text": [
      "[23, 50, 65, 82, 100]\n"
     ]
    }
   ],
   "source": [
    "num = [100, 50, 65, 82, 23]\n",
    "num.sort()\n",
    "print(num)"
   ]
  },
  {
   "cell_type": "code",
   "execution_count": 48,
   "metadata": {},
   "outputs": [
    {
     "name": "stdout",
     "output_type": "stream",
     "text": [
      "['Propeller', 'Keyway', 'Hub', 'Blade', 'Black']\n"
     ]
    }
   ],
   "source": [
    "# Sort Descending\n",
    "portion = ['Blade', 'Hub', 'Keyway', 'Propeller', 'Black']\n",
    "portion.sort(reverse = True)\n",
    "print(portion)"
   ]
  },
  {
   "cell_type": "code",
   "execution_count": 49,
   "metadata": {},
   "outputs": [
    {
     "name": "stdout",
     "output_type": "stream",
     "text": [
      "[100, 82, 65, 50, 23]\n"
     ]
    }
   ],
   "source": [
    "num = [100, 50, 65, 82, 23]\n",
    "num.sort(reverse = True)\n",
    "print(num)"
   ]
  },
  {
   "cell_type": "code",
   "execution_count": 50,
   "metadata": {},
   "outputs": [
    {
     "name": "stdout",
     "output_type": "stream",
     "text": [
      "['Blade', 'Hub', 'Propeller', 'black', 'keyway']\n"
     ]
    }
   ],
   "source": [
    "# Case Insensitive sort\n",
    "portion = ['Blade', 'Hub', 'keyway', 'Propeller', 'black']\n",
    "portion.sort()\n",
    "print(portion)"
   ]
  },
  {
   "cell_type": "code",
   "execution_count": 51,
   "metadata": {},
   "outputs": [
    {
     "name": "stdout",
     "output_type": "stream",
     "text": [
      "['black', 'Blade', 'Hub', 'keyway', 'Propeller']\n"
     ]
    }
   ],
   "source": [
    "portion.sort(key = str.lower)\n",
    "print(portion)"
   ]
  },
  {
   "cell_type": "code",
   "execution_count": 52,
   "metadata": {},
   "outputs": [
    {
     "name": "stdout",
     "output_type": "stream",
     "text": [
      "['Blade', 'Hub', 'Keyway', 'Propeller', 'Black']\n"
     ]
    }
   ],
   "source": [
    "# Copy list\n",
    "portion = ['Blade', 'Hub', 'Keyway', 'Propeller', 'Black']\n",
    "newlist = portion.copy()\n",
    "print(newlist)"
   ]
  },
  {
   "cell_type": "code",
   "execution_count": 53,
   "metadata": {},
   "outputs": [
    {
     "name": "stdout",
     "output_type": "stream",
     "text": [
      "1\n"
     ]
    }
   ],
   "source": [
    "# index \n",
    "my_list = [1, 2, 3, 2]\n",
    "index = my_list.index(2)\n",
    "print(index)"
   ]
  },
  {
   "cell_type": "code",
   "execution_count": 54,
   "metadata": {},
   "outputs": [
    {
     "name": "stdout",
     "output_type": "stream",
     "text": [
      "3\n"
     ]
    }
   ],
   "source": [
    "# count\n",
    "my_list = [1, 2, 3, 2, 2, 4]\n",
    "count = my_list.count(2)\n",
    "print(count)"
   ]
  },
  {
   "cell_type": "code",
   "execution_count": 55,
   "metadata": {},
   "outputs": [
    {
     "data": {
      "text/plain": [
       "(0, 777)"
      ]
     },
     "execution_count": 55,
     "metadata": {},
     "output_type": "execute_result"
    }
   ],
   "source": [
    "c = [9,34,777,567,34,0,0,5,3,56,98,23,67,0,1,9]\n",
    "c.sort()\n",
    "min(c), max(c)"
   ]
  },
  {
   "cell_type": "code",
   "execution_count": 56,
   "metadata": {},
   "outputs": [
    {
     "data": {
      "text/plain": [
       "('zoom', 'appel')"
      ]
     },
     "execution_count": 56,
     "metadata": {},
     "output_type": "execute_result"
    }
   ],
   "source": [
    "ap = ['zoom','hello', 'yart','word', 'keybord', 'black' ,'appel']\n",
    "max(ap), min(ap)"
   ]
  },
  {
   "cell_type": "markdown",
   "metadata": {},
   "source": [
    "# Tuple"
   ]
  },
  {
   "cell_type": "markdown",
   "metadata": {},
   "source": [
    "- Tuples are an ordered sequnce of mixed data types.\n",
    "- Tuples are written as comma-separated  elements within parenthesis\n",
    "- Tuples are used to store multiple items in a single variable.\n",
    "- A tuple is a collection which is ordered and unchangeable.\n",
    "- A tules allows Duplicates"
   ]
  },
  {
   "cell_type": "code",
   "execution_count": 57,
   "metadata": {},
   "outputs": [
    {
     "name": "stdout",
     "output_type": "stream",
     "text": [
      "<class 'tuple'>\n"
     ]
    }
   ],
   "source": [
    "mech = (\"Hub seal\", 'Hub net', 'Break shoe', 'Break cylinder', 'Alternator')\n",
    "print(type(mech))"
   ]
  },
  {
   "cell_type": "code",
   "execution_count": 58,
   "metadata": {},
   "outputs": [],
   "source": [
    "# String, int and boolean data types:\n",
    "\n",
    "tuple1 = (\"apple\", \"banana\", \"cherry\")\n",
    "tuple2 = (1, 5, 7, 9, 3)\n",
    "tuple3 = (True, False, False)"
   ]
  },
  {
   "cell_type": "code",
   "execution_count": 59,
   "metadata": {},
   "outputs": [
    {
     "name": "stdout",
     "output_type": "stream",
     "text": [
      "Break shoe\n"
     ]
    }
   ],
   "source": [
    "# Access Tuple Items\n",
    "mech = mech\n",
    "print(mech[2])"
   ]
  },
  {
   "cell_type": "code",
   "execution_count": 60,
   "metadata": {},
   "outputs": [
    {
     "name": "stdout",
     "output_type": "stream",
     "text": [
      "Break cylinder\n"
     ]
    }
   ],
   "source": [
    "# Negative Indexing\n",
    "print(mech[-2])"
   ]
  },
  {
   "cell_type": "code",
   "execution_count": 61,
   "metadata": {},
   "outputs": [
    {
     "name": "stdout",
     "output_type": "stream",
     "text": [
      "('Hub net', 'Break shoe')\n"
     ]
    }
   ],
   "source": [
    "# Range of Indexes\n",
    "print(mech[1:-2])"
   ]
  },
  {
   "cell_type": "code",
   "execution_count": 62,
   "metadata": {},
   "outputs": [
    {
     "name": "stdout",
     "output_type": "stream",
     "text": [
      "Yes, it is present.\n"
     ]
    }
   ],
   "source": [
    "# Check if Item Exists\n",
    "mech = mech\n",
    "\n",
    "if 'Alternator' in mech:\n",
    "    print(\"Yes, it is present.\")\n",
    "else:\n",
    "    print('No, it is not present.')"
   ]
  },
  {
   "cell_type": "code",
   "execution_count": 63,
   "metadata": {},
   "outputs": [
    {
     "name": "stdout",
     "output_type": "stream",
     "text": [
      "('Varnish', 'Primer', 'Tail-gate', 'Bodyshell', 'Fuel cap', 'Door handle')\n"
     ]
    }
   ],
   "source": [
    "# Change Tuple Values\n",
    "par = ('Varnish', 'Primer', 'Tail-gate', 'Bodyshell', 'Fuel cap')\n",
    "\n",
    "# Add Items\n",
    "# if we want to add the items in tuple first we have to convert tuple into a list the again back to tuple\n",
    "x = list(par)\n",
    "x.append(\"Door handle\")\n",
    "par = tuple(x)\n",
    "print(par)"
   ]
  },
  {
   "cell_type": "code",
   "execution_count": 64,
   "metadata": {},
   "outputs": [
    {
     "name": "stdout",
     "output_type": "stream",
     "text": [
      "('Varnish', 'Primer', 'Tail-gate', 'Bodyshell', 'Fuel cap', 'Door handle', 'Front bumper')\n"
     ]
    }
   ],
   "source": [
    "# Add tuple to a tuple\n",
    "\n",
    "par = par\n",
    "y = ('Front bumper',)\n",
    "par += y\n",
    "print(par)"
   ]
  },
  {
   "cell_type": "code",
   "execution_count": 65,
   "metadata": {},
   "outputs": [
    {
     "name": "stdout",
     "output_type": "stream",
     "text": [
      "('Primer', 'Tail-gate', 'Bodyshell', 'Fuel cap', 'Door handle', 'Front bumper')\n"
     ]
    }
   ],
   "source": [
    "# Remove Items\n",
    "# As we know that tuples are unchangalbe.\n",
    "# If we want to remove the items from the tuple first we have to convert tuple onto a list\n",
    "\n",
    "par = par\n",
    "x = list(par)\n",
    "x.remove('Varnish')\n",
    "par = tuple(x)\n",
    "\n",
    "print(par)"
   ]
  },
  {
   "cell_type": "code",
   "execution_count": 66,
   "metadata": {},
   "outputs": [
    {
     "name": "stdout",
     "output_type": "stream",
     "text": [
      "Coronary artery\n",
      "Chordea tendineae\n",
      "Trabecula\n",
      "Fossa ovalis\n"
     ]
    }
   ],
   "source": [
    "# Unpacking a Tuple\n",
    "hea = ('Coronary artery', 'Chordea tendineae', 'Trabecula', \"Fossa ovalis\")\n",
    "\n",
    "(red, heart, blood, oxygen) = hea\n",
    "print(red)\n",
    "print(heart)\n",
    "print(blood)\n",
    "print(oxygen)"
   ]
  },
  {
   "cell_type": "code",
   "execution_count": 67,
   "metadata": {},
   "outputs": [
    {
     "name": "stdout",
     "output_type": "stream",
     "text": [
      "Coronary artery\n",
      "Chordea tendineae\n",
      "Trabecula\n",
      "['Fossa ovalis', 'Left pulmonary vein', 'Left ventricle']\n"
     ]
    }
   ],
   "source": [
    "# Using Asterisk *\n",
    "hea = ('Coronary artery', 'Chordea tendineae', 'Trabecula', \"Fossa ovalis\", \"Left pulmonary vein\", 'Left ventricle')\n",
    "\n",
    "(red, heart, blood, *oxygen) = hea\n",
    "print(red)\n",
    "print(heart)\n",
    "print(blood)\n",
    "print(oxygen)"
   ]
  },
  {
   "cell_type": "code",
   "execution_count": 68,
   "metadata": {},
   "outputs": [
    {
     "name": "stdout",
     "output_type": "stream",
     "text": [
      "Coronary artery\n",
      "Chordea tendineae\n",
      "['Trabecula', 'Fossa ovalis', 'Left pulmonary vein']\n",
      "Left ventricle\n"
     ]
    }
   ],
   "source": [
    "# Using Asterisk *\n",
    "hea = ('Coronary artery', 'Chordea tendineae', 'Trabecula', \"Fossa ovalis\", \"Left pulmonary vein\", 'Left ventricle')\n",
    "\n",
    "(red, heart, *blood, oxygen) = hea\n",
    "print(red)\n",
    "print(heart)\n",
    "print(blood)\n",
    "print(oxygen)"
   ]
  },
  {
   "cell_type": "code",
   "execution_count": 69,
   "metadata": {},
   "outputs": [
    {
     "name": "stdout",
     "output_type": "stream",
     "text": [
      "Coronary artery\n",
      "Chordea tendineae\n",
      "Trabecula\n",
      "Fossa ovalis\n",
      "Left pulmonary vein\n",
      "Left ventricle\n"
     ]
    }
   ],
   "source": [
    "# Loop Through a Tuple\n",
    "hea = hea\n",
    "\n",
    "for x in hea:\n",
    "    print(x)"
   ]
  },
  {
   "cell_type": "code",
   "execution_count": 70,
   "metadata": {},
   "outputs": [
    {
     "name": "stdout",
     "output_type": "stream",
     "text": [
      "Coronary artery\n",
      "Chordea tendineae\n",
      "Trabecula\n",
      "Fossa ovalis\n",
      "Left pulmonary vein\n",
      "Left ventricle\n"
     ]
    }
   ],
   "source": [
    "# Loop Through the Index Numbers\n",
    "hea = hea\n",
    "\n",
    "for i in range(len(hea)):\n",
    "    print(hea[i])"
   ]
  },
  {
   "cell_type": "code",
   "execution_count": 71,
   "metadata": {},
   "outputs": [
    {
     "name": "stdout",
     "output_type": "stream",
     "text": [
      "Coronary artery\n",
      "Chordea tendineae\n",
      "Trabecula\n",
      "Fossa ovalis\n",
      "Left pulmonary vein\n",
      "Left ventricle\n"
     ]
    }
   ],
   "source": [
    "# Using a While Loop\n",
    "hea = hea\n",
    "\n",
    "i = 0\n",
    "while i < len(hea):\n",
    "    print(hea[i])\n",
    "    i += 1"
   ]
  },
  {
   "cell_type": "code",
   "execution_count": 72,
   "metadata": {},
   "outputs": [
    {
     "name": "stdout",
     "output_type": "stream",
     "text": [
      "('Coronary artery', 'Chordea tendineae', 'Trabecula', 'Fossa ovalis', 'Left pulmonary vein', 'Left ventricle', 1, 2, 3, 4, 5, 6)\n"
     ]
    }
   ],
   "source": [
    "# Join Two Tuples\n",
    "hea = ('Coronary artery', 'Chordea tendineae', 'Trabecula', \"Fossa ovalis\", \"Left pulmonary vein\", 'Left ventricle')\n",
    "h = (1,2,3,4,5,6)\n",
    "\n",
    "heart = hea + h\n",
    "print(heart)"
   ]
  },
  {
   "cell_type": "code",
   "execution_count": 73,
   "metadata": {},
   "outputs": [
    {
     "name": "stdout",
     "output_type": "stream",
     "text": [
      "('Coronary artery', 'Chordea tendineae', 'Trabecula', 'Fossa ovalis', 'Left pulmonary vein', 'Left ventricle', 'Coronary artery', 'Chordea tendineae', 'Trabecula', 'Fossa ovalis', 'Left pulmonary vein', 'Left ventricle')\n"
     ]
    }
   ],
   "source": [
    "# Multiply Tuples\n",
    "hea = ('Coronary artery', 'Chordea tendineae', 'Trabecula', \"Fossa ovalis\", \"Left pulmonary vein\", 'Left ventricle')\n",
    "\n",
    "tup = hea * 2\n",
    "print(tup)"
   ]
  },
  {
   "cell_type": "code",
   "execution_count": 74,
   "metadata": {},
   "outputs": [
    {
     "name": "stdout",
     "output_type": "stream",
     "text": [
      "3\n"
     ]
    }
   ],
   "source": [
    "# count function\n",
    "tup = (11,12,13,14,15,16,17,18,11,19,20,11)\n",
    "print(tup.count(11))"
   ]
  },
  {
   "cell_type": "code",
   "execution_count": 75,
   "metadata": {},
   "outputs": [
    {
     "name": "stdout",
     "output_type": "stream",
     "text": [
      "7\n"
     ]
    }
   ],
   "source": [
    "# Index function\n",
    "print(tup.index(18))"
   ]
  },
  {
   "cell_type": "markdown",
   "metadata": {},
   "source": [
    "# SET"
   ]
  },
  {
   "cell_type": "markdown",
   "metadata": {},
   "source": [
    "- Sets are a type of collection like lists and tuples, storing mixed data.\n",
    "- Sets are enclosed within curly brackets and elements are written as comma-separated.\n",
    "- Sets are unordered\n",
    "- Sets does not allow duplicates"
   ]
  },
  {
   "cell_type": "code",
   "execution_count": 76,
   "metadata": {},
   "outputs": [
    {
     "name": "stdout",
     "output_type": "stream",
     "text": [
      "<class 'set'>\n"
     ]
    }
   ],
   "source": [
    "ton = {'Salt', \"Sweet\", \"Sour\", \"Bitter\", \"Apex\", True, False, 1, 2, 3, 4,}\n",
    "print(type(ton))"
   ]
  },
  {
   "cell_type": "code",
   "execution_count": 77,
   "metadata": {},
   "outputs": [
    {
     "name": "stdout",
     "output_type": "stream",
     "text": [
      "10\n"
     ]
    }
   ],
   "source": [
    "# Checking of length\n",
    "print(len(ton))"
   ]
  },
  {
   "cell_type": "code",
   "execution_count": 78,
   "metadata": {},
   "outputs": [],
   "source": [
    "ton = {'Salt', \"Sweet\", \"Sour\", \"Bitter\", \"Apex\"}\n",
    "to = {True, False}\n",
    "t = {1, 2, 3, 4,}"
   ]
  },
  {
   "cell_type": "code",
   "execution_count": 79,
   "metadata": {},
   "outputs": [
    {
     "name": "stdout",
     "output_type": "stream",
     "text": [
      "Sour\n",
      "Salt\n",
      "Sweet\n",
      "Apex\n",
      "Bitter\n"
     ]
    }
   ],
   "source": [
    "# Access Items\n",
    "# We cannot access items in a set by referring to an index or a key.\n",
    "\n",
    "# But we can acces them using for loop\n",
    "ton = {'Salt', \"Sweet\", \"Sour\", \"Bitter\", \"Apex\"}\n",
    "\n",
    "for x in ton:\n",
    "  print(x)"
   ]
  },
  {
   "cell_type": "code",
   "execution_count": 80,
   "metadata": {},
   "outputs": [
    {
     "name": "stdout",
     "output_type": "stream",
     "text": [
      "{'Sour', 'Salt', 'Sweet', 'Apex', 'Thyrohyoid', 'Bitter'}\n"
     ]
    }
   ],
   "source": [
    "# Add Items in Set\n",
    "ton = {'Salt', \"Sweet\", \"Sour\", \"Bitter\", \"Apex\"}\n",
    "ton.add(\"Thyrohyoid\")\n",
    "print(ton)"
   ]
  },
  {
   "cell_type": "code",
   "execution_count": 81,
   "metadata": {},
   "outputs": [
    {
     "name": "stdout",
     "output_type": "stream",
     "text": [
      "{'Sour', 'Apex', 'Thyrohyoid', 'Salt', 'Sweet', 'Medium sulcus', 'Trachea', 'Thyroid gland', 'Bitter'}\n"
     ]
    }
   ],
   "source": [
    "# Adding Set\n",
    "ton = {'Apex', 'Sour', 'Salt', 'Sweet', 'Bitter', 'Thyrohyoid'}\n",
    "to = {'Trachea', 'Thyroid gland', 'Medium sulcus'}\n",
    "\n",
    "ton.update(to)\n",
    "print(ton)"
   ]
  },
  {
   "cell_type": "code",
   "execution_count": 82,
   "metadata": {},
   "outputs": [
    {
     "name": "stdout",
     "output_type": "stream",
     "text": [
      "{'Apex', 'Sweet', 'Sour', 'Lingual nerve', 'Hyoid bone', 'Incisor', 'Salt', 'Thyrohyoid', 'Bitter'}\n"
     ]
    }
   ],
   "source": [
    "# Add Any Iterable\n",
    "ton = {'Apex', 'Sour', 'Salt', 'Sweet', 'Bitter', 'Thyrohyoid'}\n",
    "to = ['Incisor', 'Hyoid bone', 'Lingual nerve']\n",
    "\n",
    "ton.update(to)\n",
    "print(ton)"
   ]
  },
  {
   "cell_type": "code",
   "execution_count": 83,
   "metadata": {},
   "outputs": [
    {
     "name": "stdout",
     "output_type": "stream",
     "text": [
      "{'Antitragus', 'Helix', 'Lobule', 'Tragus'}\n"
     ]
    }
   ],
   "source": [
    "# Remove Item\n",
    "ear = {'Helix', 'Antihelix', 'Antitragus', 'Lobule', 'Tragus'}\n",
    "\n",
    "ear.remove(\"Antihelix\")\n",
    "print(ear)"
   ]
  },
  {
   "cell_type": "code",
   "execution_count": 84,
   "metadata": {},
   "outputs": [
    {
     "name": "stdout",
     "output_type": "stream",
     "text": [
      "{'Antitragus', 'Lobule', 'Tragus'}\n"
     ]
    }
   ],
   "source": [
    "# Discard\n",
    "\n",
    "ear.discard('Helix')\n",
    "print(ear)\n",
    "\n",
    "# If the item to remove does not exist, discard() will NOT raise an error."
   ]
  },
  {
   "cell_type": "code",
   "execution_count": 85,
   "metadata": {},
   "outputs": [
    {
     "name": "stdout",
     "output_type": "stream",
     "text": [
      "{'Lobule', 'Tragus'}\n"
     ]
    }
   ],
   "source": [
    "# pop\n",
    "\n",
    "ear.pop()\n",
    "print(ear)"
   ]
  },
  {
   "cell_type": "code",
   "execution_count": 86,
   "metadata": {},
   "outputs": [
    {
     "name": "stdout",
     "output_type": "stream",
     "text": [
      "set()\n"
     ]
    }
   ],
   "source": [
    "# Clear\n",
    "\n",
    "ear.clear()\n",
    "print(ear)"
   ]
  },
  {
   "cell_type": "code",
   "execution_count": 87,
   "metadata": {},
   "outputs": [],
   "source": [
    "# del\n",
    "\n",
    "del ear\n",
    "# print(ear)\n",
    "\n",
    "# it will raise an error"
   ]
  },
  {
   "cell_type": "code",
   "execution_count": 88,
   "metadata": {},
   "outputs": [
    {
     "name": "stdout",
     "output_type": "stream",
     "text": [
      "{'Ora Serrata', 'Pia mater', 'Cornea', 'Sclera', 'Iris', 'Pupil', 'Lens'}\n"
     ]
    }
   ],
   "source": [
    "# Join Two Sets\n",
    "\n",
    "ey = {\"Iris\", \"Pupil\", \"Lens\", \"Cornea\"}\n",
    "e = {\"Ora Serrata\", \"Sclera\", \"Pia mater\"}\n",
    "\n",
    "es = ey.union(e)\n",
    "print(es)"
   ]
  },
  {
   "cell_type": "code",
   "execution_count": 89,
   "metadata": {},
   "outputs": [
    {
     "name": "stdout",
     "output_type": "stream",
     "text": [
      "{'Ora Serrata', 'Pia mater', 'Cornea', 'Sclera', 'Iris', 'Pupil', 'Lens'}\n"
     ]
    }
   ],
   "source": [
    "# Update\n",
    "ey = {\"Iris\", \"Pupil\", \"Lens\", \"Cornea\"}\n",
    "e = {\"Ora Serrata\", \"Sclera\", \"Pia mater\"}\n",
    "\n",
    "ey.update(e)\n",
    "print(ey)"
   ]
  },
  {
   "cell_type": "code",
   "execution_count": 90,
   "metadata": {},
   "outputs": [
    {
     "name": "stdout",
     "output_type": "stream",
     "text": [
      "{'Iris', 'Pupil', 'Cornea', 'Lens'}\n"
     ]
    }
   ],
   "source": [
    "# Keep ONLY the Duplicates\n",
    "ey = {\"Iris\", \"Pupil\", \"Lens\", \"Cornea\"}\n",
    "e = {\"Ora Serrata\", \"Sclera\", \"Pia mater\", \"Lens\"}\n",
    "\n",
    "ey.intersection(e)\n",
    "print(ey)"
   ]
  },
  {
   "cell_type": "code",
   "execution_count": 91,
   "metadata": {},
   "outputs": [
    {
     "name": "stdout",
     "output_type": "stream",
     "text": [
      "{'Lens'}\n"
     ]
    }
   ],
   "source": [
    "ey = {\"Iris\", \"Pupil\", \"Lens\", \"Cornea\"}\n",
    "e = {\"Ora Serrata\", \"Sclera\", \"Pia mater\", \"Lens\"}\n",
    "\n",
    "z = ey.intersection(e)\n",
    "print(z)\n",
    "\n",
    "# Return a set that contains the items that exist in both set ey, and set e"
   ]
  },
  {
   "cell_type": "code",
   "execution_count": 92,
   "metadata": {},
   "outputs": [
    {
     "name": "stdout",
     "output_type": "stream",
     "text": [
      "{'Ora Serrata', 'Cornea', 'Sclera', 'Iris', 'Pia mater', 'Pupil'}\n"
     ]
    }
   ],
   "source": [
    "# Keep All, But NOT the Duplicates\n",
    "# Keep the items that are not present in both sets:\n",
    "\n",
    "ey = {\"Iris\", \"Pupil\", \"Lens\", \"Cornea\"}\n",
    "e = {\"Ora Serrata\", \"Sclera\", \"Pia mater\", \"Lens\"}\n",
    "\n",
    "ey.symmetric_difference_update(e)\n",
    "print(ey)"
   ]
  },
  {
   "cell_type": "markdown",
   "metadata": {},
   "source": [
    "# Dictionary"
   ]
  },
  {
   "cell_type": "markdown",
   "metadata": {},
   "source": [
    "- A dictionary stores element as keys and values pairs.\n",
    "- The key is like an index, its is always unique and immutable. \n",
    "- The values are the objects that contain information.\n",
    "- Values are accessed using their keys.\n",
    "- Each key is followed by a value separated by a colon. \n",
    "- The values can be immutable, mutable, and duplicates. \n",
    "- Each key and value pair is separated by a comma enclosed inside curly brackets."
   ]
  },
  {
   "cell_type": "code",
   "execution_count": 93,
   "metadata": {},
   "outputs": [
    {
     "name": "stdout",
     "output_type": "stream",
     "text": [
      "<class 'dict'>\n"
     ]
    }
   ],
   "source": [
    "dic = {'India': \"Tata\", \"USA\" : \"Ford\", \"Germany\" : \"BMW\", \"Italy\": 'Ferrari', \"Japan\": \"Toyota\"}\n",
    "print(type(dic))"
   ]
  },
  {
   "cell_type": "code",
   "execution_count": 94,
   "metadata": {},
   "outputs": [
    {
     "name": "stdout",
     "output_type": "stream",
     "text": [
      "{'India': 'Tata', 'USA': 'Ford', 'Germany': 'BMW', 'Italy': 'Ferrari', 'Japan': 'Suzuki'}\n"
     ]
    }
   ],
   "source": [
    "# Changeable\n",
    "# Dictionaries are changeable, meaning that we can change, add \n",
    "# or remove items after the dictionary has been created.\n",
    "\n",
    "# Duplicates Not Allowed\n",
    "# Dictionaries cannot have two items with the same key:\n",
    "\n",
    "dic = {'India': \"Tata\", \n",
    "       \"USA\" : \"Ford\", \n",
    "       \"Germany\" : \"BMW\", \n",
    "       \"Italy\": 'Ferrari', \n",
    "       \"Japan\": \"Toyota\",\n",
    "       \"Japan\" : \"Suzuki\"}\n",
    "\n",
    "print(dic)"
   ]
  },
  {
   "cell_type": "code",
   "execution_count": 95,
   "metadata": {},
   "outputs": [
    {
     "name": "stdout",
     "output_type": "stream",
     "text": [
      "5\n"
     ]
    }
   ],
   "source": [
    "# Dictionary Length\n",
    "\n",
    "print(len(dic))"
   ]
  },
  {
   "cell_type": "code",
   "execution_count": 96,
   "metadata": {},
   "outputs": [
    {
     "name": "stdout",
     "output_type": "stream",
     "text": [
      "dict_keys(['India', 'USA', 'Germany', 'Italy', 'Japan'])\n"
     ]
    }
   ],
   "source": [
    "# Keys\n",
    "print(dic.keys())"
   ]
  },
  {
   "cell_type": "code",
   "execution_count": 97,
   "metadata": {},
   "outputs": [
    {
     "name": "stdout",
     "output_type": "stream",
     "text": [
      "dict_values(['Tata', 'Ford', 'BMW', 'Ferrari', 'Suzuki'])\n"
     ]
    }
   ],
   "source": [
    "# Values\n",
    "print(dic.values())"
   ]
  },
  {
   "cell_type": "code",
   "execution_count": 98,
   "metadata": {},
   "outputs": [
    {
     "data": {
      "text/plain": [
       "dict_keys(['key1', 'key2', 'key3'])"
      ]
     },
     "execution_count": 98,
     "metadata": {},
     "output_type": "execute_result"
    }
   ],
   "source": [
    "# GET ALL KEYS AND VALUES FROM DICTIONARY\n",
    "a = {'key1': [1,2,3], 'key2': ('a','b','c'), 'key3':{7.2}}\n",
    "a.keys()"
   ]
  },
  {
   "cell_type": "code",
   "execution_count": 99,
   "metadata": {},
   "outputs": [
    {
     "data": {
      "text/plain": [
       "dict_values([[1, 2, 3], ('a', 'b', 'c'), {7.2}])"
      ]
     },
     "execution_count": 99,
     "metadata": {},
     "output_type": "execute_result"
    }
   ],
   "source": [
    "a.values()"
   ]
  },
  {
   "cell_type": "code",
   "execution_count": 100,
   "metadata": {},
   "outputs": [
    {
     "data": {
      "text/plain": [
       "'Great victoria'"
      ]
     },
     "execution_count": 100,
     "metadata": {},
     "output_type": "execute_result"
    }
   ],
   "source": [
    "# GET\n",
    "# The get() method returns the value of the item with the specified ke.\n",
    "\n",
    "country = {'Africa' : 'Sahara', 'Asia' : 'Gobi', 'America' : 'Kalahari', 'Australia': 'Great victoria'} \n",
    "country.get(\"Australia\")"
   ]
  },
  {
   "cell_type": "code",
   "execution_count": 101,
   "metadata": {},
   "outputs": [
    {
     "data": {
      "text/plain": [
       "{'Africa': 'Sahara',\n",
       " 'Asia': 'Gobi',\n",
       " 'America': 'Kalahari',\n",
       " 'Australia': 'Great victoria',\n",
       " 'N.America': 'Great Basin'}"
      ]
     },
     "execution_count": 101,
     "metadata": {},
     "output_type": "execute_result"
    }
   ],
   "source": [
    "# Adding items to the dict\n",
    "\n",
    "country['N.America'] = \"Great Basin\"\n",
    "country"
   ]
  },
  {
   "cell_type": "code",
   "execution_count": 102,
   "metadata": {},
   "outputs": [
    {
     "data": {
      "text/plain": [
       "{'Africa': 'Sahara',\n",
       " 'Asia': 'Gobi',\n",
       " 'America': 'Kalahari',\n",
       " 'Australia': 'Great victoria',\n",
       " 'N.America': 'Great Basin',\n",
       " 'S.America': 'Patagonian'}"
      ]
     },
     "execution_count": 102,
     "metadata": {},
     "output_type": "execute_result"
    }
   ],
   "source": [
    "# We can also use the update method\n",
    "\n",
    "country.update({\"S.America\" : \"Patagonian\"})\n",
    "country"
   ]
  },
  {
   "cell_type": "code",
   "execution_count": 103,
   "metadata": {},
   "outputs": [
    {
     "data": {
      "text/plain": [
       "{'Africa': 'Sahara',\n",
       " 'Asia': 'Gobi',\n",
       " 'America': 'Kalahari',\n",
       " 'Australia': 'Great victoria',\n",
       " 'N.America': 'Great Basin'}"
      ]
     },
     "execution_count": 103,
     "metadata": {},
     "output_type": "execute_result"
    }
   ],
   "source": [
    "# Removing Items from the dict\n",
    "# pop method\n",
    "\n",
    "country.pop(\"S.America\")\n",
    "\n",
    "# country.pop() - if it is the blank it will remove the last element from the list.\n",
    "\n",
    "country"
   ]
  },
  {
   "cell_type": "code",
   "execution_count": 104,
   "metadata": {},
   "outputs": [
    {
     "name": "stdout",
     "output_type": "stream",
     "text": [
      "{'Africa': 'Sahara', 'Asia': 'Gobi', 'America': 'Kalahari', 'Australia': 'Great victoria'}\n"
     ]
    }
   ],
   "source": [
    "# The popitem() method removes the last inserted item (in versions before 3.7, a random item is removed instead):\n",
    "\n",
    "country.popitem()\n",
    "print(country)"
   ]
  },
  {
   "cell_type": "code",
   "execution_count": 105,
   "metadata": {},
   "outputs": [
    {
     "name": "stdout",
     "output_type": "stream",
     "text": [
      "{'Africa': 'Sahara', 'America': 'Kalahari', 'Australia': 'Great victoria'}\n"
     ]
    }
   ],
   "source": [
    "# The del keyword removes the item with the specified key name:\n",
    "\n",
    "del country['Asia']\n",
    "print(country)\n",
    "\n",
    "# The del keyword can also delete the dictionary completely:\n",
    "# The clear() method empties the dictionary:"
   ]
  },
  {
   "cell_type": "code",
   "execution_count": 106,
   "metadata": {},
   "outputs": [
    {
     "name": "stdout",
     "output_type": "stream",
     "text": [
      "Africa\n",
      "America\n",
      "Australia\n"
     ]
    }
   ],
   "source": [
    "# Loop Through a Dictionary\n",
    "# for keys\n",
    "for x in country:\n",
    "    print(x)"
   ]
  },
  {
   "cell_type": "code",
   "execution_count": 107,
   "metadata": {},
   "outputs": [
    {
     "name": "stdout",
     "output_type": "stream",
     "text": [
      "Sahara\n",
      "Kalahari\n",
      "Great victoria\n"
     ]
    }
   ],
   "source": [
    "# for values\n",
    "for x in country:\n",
    "    print(country[x])"
   ]
  },
  {
   "cell_type": "code",
   "execution_count": 108,
   "metadata": {},
   "outputs": [
    {
     "name": "stdout",
     "output_type": "stream",
     "text": [
      "Africa\n",
      "America\n",
      "Australia\n"
     ]
    }
   ],
   "source": [
    "# or we can use values and keys also in the for loop\n",
    "for x in country.keys():\n",
    "    print(x)"
   ]
  },
  {
   "cell_type": "code",
   "execution_count": 109,
   "metadata": {},
   "outputs": [
    {
     "name": "stdout",
     "output_type": "stream",
     "text": [
      "Sahara\n",
      "Kalahari\n",
      "Great victoria\n"
     ]
    }
   ],
   "source": [
    "for x in country.values():\n",
    "    print(x)"
   ]
  },
  {
   "cell_type": "code",
   "execution_count": 110,
   "metadata": {},
   "outputs": [
    {
     "name": "stdout",
     "output_type": "stream",
     "text": [
      "Africa Sahara\n",
      "America Kalahari\n",
      "Australia Great victoria\n"
     ]
    }
   ],
   "source": [
    "# Loop through both keys and values, by using the items() method:\n",
    "for x, y in country.items():\n",
    "    print(x, y) "
   ]
  },
  {
   "cell_type": "code",
   "execution_count": 111,
   "metadata": {},
   "outputs": [],
   "source": [
    "# Nested Dictionaries\n",
    "\n",
    "myfamily = {\n",
    "  \"child1\" : {\n",
    "    \"name\" : \"Emil\",\n",
    "    \"year\" : 2004\n",
    "  },\n",
    "  \"child2\" : {\n",
    "    \"name\" : \"Tobias\",\n",
    "    \"year\" : 2007\n",
    "  },\n",
    "  \"child3\" : {\n",
    "    \"name\" : \"Linus\",\n",
    "    \"year\" : 2011\n",
    "  }\n",
    "}"
   ]
  },
  {
   "cell_type": "code",
   "execution_count": 112,
   "metadata": {},
   "outputs": [
    {
     "name": "stdout",
     "output_type": "stream",
     "text": [
      "Tobias\n"
     ]
    }
   ],
   "source": [
    "# Access Items in Nested Dictionaries\n",
    "print(myfamily[\"child2\"][\"name\"])"
   ]
  }
 ],
 "metadata": {
  "kernelspec": {
   "display_name": "Python 3",
   "language": "python",
   "name": "python3"
  },
  "language_info": {
   "codemirror_mode": {
    "name": "ipython",
    "version": 3
   },
   "file_extension": ".py",
   "mimetype": "text/x-python",
   "name": "python",
   "nbconvert_exporter": "python",
   "pygments_lexer": "ipython3",
   "version": "3.11.6"
  },
  "orig_nbformat": 4
 },
 "nbformat": 4,
 "nbformat_minor": 2
}
